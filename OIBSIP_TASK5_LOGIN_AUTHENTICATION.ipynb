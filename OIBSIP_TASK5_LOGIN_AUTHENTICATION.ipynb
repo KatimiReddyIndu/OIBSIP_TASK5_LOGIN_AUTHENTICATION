{
  "nbformat": 4,
  "nbformat_minor": 0,
  "metadata": {
    "colab": {
      "private_outputs": true,
      "provenance": [],
      "cell_execution_strategy": "setup",
      "authorship_tag": "ABX9TyNL2ID+Ex9NqNMKE8sRGNKT",
      "include_colab_link": true
    },
    "kernelspec": {
      "name": "python3",
      "display_name": "Python 3"
    },
    "language_info": {
      "name": "python"
    }
  },
  "cells": [
    {
      "cell_type": "markdown",
      "metadata": {
        "id": "view-in-github",
        "colab_type": "text"
      },
      "source": [
        "<a href=\"https://colab.research.google.com/github/KatimiReddyIndu/OIBSIP_TASK5_LOGIN_AUTHENTICATION/blob/main/OIBSIP_TASK5_LOGIN_AUTHENTICATION.ipynb\" target=\"_parent\"><img src=\"https://colab.research.google.com/assets/colab-badge.svg\" alt=\"Open In Colab\"/></a>"
      ]
    },
    {
      "cell_type": "code",
      "execution_count": null,
      "metadata": {
        "id": "2L3SZD6sB--_"
      },
      "outputs": [],
      "source": [
        "pip install bcrypt"
      ]
    },
    {
      "cell_type": "code",
      "source": [],
      "metadata": {
        "id": "NqPT_7cBCOfG"
      },
      "execution_count": null,
      "outputs": []
    },
    {
      "cell_type": "code",
      "source": [
        "import sqlite3\n",
        "import bcrypt\n",
        "\n",
        "# Create a database connection\n",
        "conn = sqlite3.connect('user_database.db')\n",
        "cursor = conn.cursor()\n",
        "\n",
        "# Create the user table if it doesn't exist\n",
        "cursor.execute('''\n",
        "    CREATE TABLE IF NOT EXISTS users (\n",
        "        id INTEGER PRIMARY KEY,\n",
        "        username TEXT UNIQUE,\n",
        "        password TEXT\n",
        "    )\n",
        "''')\n",
        "conn.commit()\n",
        "\n",
        "def register_user(username, password):\n",
        "    hashed_password = bcrypt.hashpw(password.encode('utf-8'), bcrypt.gensalt())\n",
        "    cursor.execute('INSERT INTO users (username, password) VALUES (?, ?)', (username, hashed_password))\n",
        "    conn.commit()\n",
        "\n",
        "def login_user(username, password):\n",
        "    cursor.execute('SELECT password FROM users WHERE username = ?', (username,))\n",
        "    row = cursor.fetchone()\n",
        "    if row and bcrypt.checkpw(password.encode('utf-8'), row[0]):\n",
        "        return True\n",
        "    else:\n",
        "        return False\n",
        "\n",
        "def main():\n",
        "    while True:\n",
        "        print(\"1. Register\")\n",
        "        print(\"2. Login\")\n",
        "        print(\"3. Exit\")\n",
        "        choice = input(\"Select an option: \")\n",
        "\n",
        "        if choice == '1':\n",
        "            username = input(\"Enter username: \")\n",
        "            password = input(\"Enter password: \")\n",
        "            register_user(username, password)\n",
        "            print(\"User registered successfully!\")\n",
        "\n",
        "        elif choice == '2':\n",
        "            username = input(\"Enter username: \")\n",
        "            password = input(\"Enter password: \")\n",
        "            if login_user(username, password):\n",
        "                print(\"Login successful! Welcome to the secured page.\")\n",
        "                # Code to access the secured page goes here\n",
        "            else:\n",
        "                print(\"Login failed. Please try again.\")\n",
        "\n",
        "        elif choice == '3':\n",
        "            print(\"Goodbye!\")\n",
        "            break\n",
        "\n",
        "        else:\n",
        "            print(\"Invalid choice. Please select a valid option.\")\n",
        "\n",
        "    conn.close()\n",
        "\n",
        "if __name__ == '__main__':\n",
        "    main()\n"
      ],
      "metadata": {
        "id": "GoRj3kIe1-kg"
      },
      "execution_count": null,
      "outputs": []
    }
  ]
}